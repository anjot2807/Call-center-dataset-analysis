{
 "cells": [
  {
   "cell_type": "markdown",
   "id": "e55bbb6f",
   "metadata": {
    "id": "e55bbb6f"
   },
   "source": [
    "# Call-center data analysis"
   ]
  },
  {
   "cell_type": "markdown",
   "id": "aa4421d3",
   "metadata": {},
   "source": [
    "This dataset contains information from a call center, including details about calls made, such as caller ID, phone number, call type, staff ID, date, start time, handle time, total client time, abandon time, and whether the call was abandoned or not.\n",
    "\n",
    "Objective:\n",
    "\n",
    "The main objective of this analysis is to determine the optimal hours for making outgoing calls based on the provided data. By examining factors like call volume, handle time, and abandonment rates, we aim to identify time slots when call center operations are most efficient and customer engagement is highest.\n",
    "\n",
    "source of data: /kaggle/input/call-center-dataset/Call-Center-Dataset.xlsx"
   ]
  },
  {
   "cell_type": "code",
   "execution_count": 1,
   "id": "24b33ff6",
   "metadata": {
    "id": "24b33ff6"
   },
   "outputs": [],
   "source": [
    "import pandas as pd\n",
    "import matplotlib.pyplot as plt\n",
    "import datetime\n",
    "import numpy as np\n",
    "from scipy.stats import f_oneway\n",
    "from statsmodels.stats.multicomp import pairwise_tukeyhsd\n",
    "import seaborn as sns"
   ]
  },
  {
   "cell_type": "code",
   "execution_count": 3,
   "id": "18e6281d",
   "metadata": {
    "id": "18e6281d"
   },
   "outputs": [],
   "source": [
    "data = pd.read_excel('Copy of call-center.xlsx')"
   ]
  },
  {
   "cell_type": "code",
   "execution_count": 4,
   "id": "d08d4e55",
   "metadata": {
    "colab": {
     "base_uri": "https://localhost:8080/",
     "height": 206
    },
    "id": "d08d4e55",
    "outputId": "a2cb2e9a-52c8-4005-b6e8-bd84c4adb3e5"
   },
   "outputs": [
    {
     "data": {
      "text/html": [
       "<div>\n",
       "<style scoped>\n",
       "    .dataframe tbody tr th:only-of-type {\n",
       "        vertical-align: middle;\n",
       "    }\n",
       "\n",
       "    .dataframe tbody tr th {\n",
       "        vertical-align: top;\n",
       "    }\n",
       "\n",
       "    .dataframe thead th {\n",
       "        text-align: right;\n",
       "    }\n",
       "</style>\n",
       "<table border=\"1\" class=\"dataframe\">\n",
       "  <thead>\n",
       "    <tr style=\"text-align: right;\">\n",
       "      <th></th>\n",
       "      <th>id</th>\n",
       "      <th>phone_num</th>\n",
       "      <th>call_type</th>\n",
       "      <th>staff_id</th>\n",
       "      <th>date</th>\n",
       "      <th>start_time</th>\n",
       "      <th>handle_time</th>\n",
       "      <th>Total_Client_Time</th>\n",
       "      <th>Abandon_Time</th>\n",
       "      <th>abandon</th>\n",
       "    </tr>\n",
       "  </thead>\n",
       "  <tbody>\n",
       "    <tr>\n",
       "      <th>0</th>\n",
       "      <td>197987909709</td>\n",
       "      <td>669672666000</td>\n",
       "      <td>Outcoming</td>\n",
       "      <td>19561043</td>\n",
       "      <td>2019-06-12</td>\n",
       "      <td>08:30:14</td>\n",
       "      <td>85</td>\n",
       "      <td>85</td>\n",
       "      <td>0</td>\n",
       "      <td>N</td>\n",
       "    </tr>\n",
       "    <tr>\n",
       "      <th>1</th>\n",
       "      <td>197987910507</td>\n",
       "      <td>668668849076</td>\n",
       "      <td>Outcoming</td>\n",
       "      <td>19561043</td>\n",
       "      <td>2019-06-12</td>\n",
       "      <td>08:32:53</td>\n",
       "      <td>47</td>\n",
       "      <td>47</td>\n",
       "      <td>0</td>\n",
       "      <td>N</td>\n",
       "    </tr>\n",
       "    <tr>\n",
       "      <th>2</th>\n",
       "      <td>197987911091</td>\n",
       "      <td>669696557000</td>\n",
       "      <td>Outcoming</td>\n",
       "      <td>19561043</td>\n",
       "      <td>2019-06-12</td>\n",
       "      <td>08:34:38</td>\n",
       "      <td>84</td>\n",
       "      <td>84</td>\n",
       "      <td>0</td>\n",
       "      <td>N</td>\n",
       "    </tr>\n",
       "    <tr>\n",
       "      <th>3</th>\n",
       "      <td>197987911591</td>\n",
       "      <td>669296652770</td>\n",
       "      <td>Outcoming</td>\n",
       "      <td>20158124</td>\n",
       "      <td>2019-06-12</td>\n",
       "      <td>08:36:20</td>\n",
       "      <td>54</td>\n",
       "      <td>54</td>\n",
       "      <td>0</td>\n",
       "      <td>N</td>\n",
       "    </tr>\n",
       "    <tr>\n",
       "      <th>4</th>\n",
       "      <td>197987911790</td>\n",
       "      <td>669264864525</td>\n",
       "      <td>Outcoming</td>\n",
       "      <td>19406986</td>\n",
       "      <td>2019-06-12</td>\n",
       "      <td>08:36:56</td>\n",
       "      <td>4</td>\n",
       "      <td>4</td>\n",
       "      <td>0</td>\n",
       "      <td>N</td>\n",
       "    </tr>\n",
       "  </tbody>\n",
       "</table>\n",
       "</div>"
      ],
      "text/plain": [
       "             id     phone_num  call_type  staff_id       date start_time  \\\n",
       "0  197987909709  669672666000  Outcoming  19561043 2019-06-12   08:30:14   \n",
       "1  197987910507  668668849076  Outcoming  19561043 2019-06-12   08:32:53   \n",
       "2  197987911091  669696557000  Outcoming  19561043 2019-06-12   08:34:38   \n",
       "3  197987911591  669296652770  Outcoming  20158124 2019-06-12   08:36:20   \n",
       "4  197987911790  669264864525  Outcoming  19406986 2019-06-12   08:36:56   \n",
       "\n",
       "   handle_time   Total_Client_Time  Abandon_Time abandon  \n",
       "0            85                 85             0       N  \n",
       "1            47                 47             0       N  \n",
       "2            84                 84             0       N  \n",
       "3            54                 54             0       N  \n",
       "4             4                  4             0       N  "
      ]
     },
     "execution_count": 4,
     "metadata": {},
     "output_type": "execute_result"
    }
   ],
   "source": [
    "data.head()"
   ]
  },
  {
   "cell_type": "code",
   "execution_count": 6,
   "id": "a265b732",
   "metadata": {
    "colab": {
     "base_uri": "https://localhost:8080/"
    },
    "id": "a265b732",
    "outputId": "cf7c4fda-e1ed-4340-f287-9834de177b5e",
    "scrolled": true
   },
   "outputs": [
    {
     "name": "stdout",
     "output_type": "stream",
     "text": [
      "object\n"
     ]
    }
   ],
   "source": [
    "cell_format = data[\"start_time\"].dtypes\n",
    "print(cell_format)"
   ]
  },
  {
   "cell_type": "code",
   "execution_count": 7,
   "id": "28e928d8",
   "metadata": {
    "colab": {
     "base_uri": "https://localhost:8080/"
    },
    "id": "28e928d8",
    "outputId": "52768f7d-c518-498d-d8f6-cf544bde6d70"
   },
   "outputs": [
    {
     "name": "stdout",
     "output_type": "stream",
     "text": [
      "datetime64[ns]\n",
      "             id     phone_num  call_type  staff_id       date  \\\n",
      "0  197987909709  669672666000  Outcoming  19561043 2019-06-12   \n",
      "1  197987910507  668668849076  Outcoming  19561043 2019-06-12   \n",
      "2  197987911091  669696557000  Outcoming  19561043 2019-06-12   \n",
      "3  197987911591  669296652770  Outcoming  20158124 2019-06-12   \n",
      "4  197987911790  669264864525  Outcoming  19406986 2019-06-12   \n",
      "\n",
      "           start_time  handle_time   Total_Client_Time  Abandon_Time abandon  \n",
      "0 1900-01-01 08:30:14            85                 85             0       N  \n",
      "1 1900-01-01 08:32:53            47                 47             0       N  \n",
      "2 1900-01-01 08:34:38            84                 84             0       N  \n",
      "3 1900-01-01 08:36:20            54                 54             0       N  \n",
      "4 1900-01-01 08:36:56             4                  4             0       N  \n"
     ]
    }
   ],
   "source": [
    "# converting the \"start_time\" column to datetime format\n",
    "data[\"start_time\"] = pd.to_datetime(data[\"start_time\"], format=\"%H:%M:%S\")\n",
    "\n",
    "# format after conversion\n",
    "cell_format = data[\"start_time\"].dtypes\n",
    "print(cell_format)\n",
    "print(data.head())"
   ]
  },
  {
   "cell_type": "code",
   "execution_count": 8,
   "id": "d25e51bf",
   "metadata": {
    "colab": {
     "base_uri": "https://localhost:8080/"
    },
    "id": "d25e51bf",
    "outputId": "922aa016-6af5-497c-f33d-3d852cd17c60"
   },
   "outputs": [
    {
     "name": "stdout",
     "output_type": "stream",
     "text": [
      "522.1\n"
     ]
    }
   ],
   "source": [
    "# group calls by start time\n",
    "calls_by_hour = data.groupby(data[\"start_time\"].dt.hour)[\"id\"].count()\n",
    "\n",
    "# calculation of the average number of calls in individual hours\n",
    "average_calls_by_hour = calls_by_hour.mean()\n",
    "print(average_calls_by_hour)"
   ]
  },
  {
   "cell_type": "code",
   "execution_count": 9,
   "id": "b984e0fe",
   "metadata": {
    "colab": {
     "base_uri": "https://localhost:8080/",
     "height": 1000
    },
    "id": "b984e0fe",
    "outputId": "c293b418-4365-488a-a944-23d708cb2f84"
   },
   "outputs": [
    {
     "data": {
      "image/png": "[encoded data removed]",
      "text/plain": [
       "<Figure size 1000x600 with 1 Axes>"
      ]
     },
     "metadata": {},
     "output_type": "display_data"
    }
   ],
   "source": [
    "# Create the bar plot\n",
    "plt.figure(figsize=(10, 6))\n",
    "plt.bar(calls_by_hour.index, calls_by_hour.values)\n",
    "plt.axhline(y=average_calls_by_hour, color='r', linestyle='--', label='Average number of calls')\n",
    "plt.xlabel(\"Time\")\n",
    "plt.ylabel(\"Number of calls\")\n",
    "plt.title(\"Number of calls per hour\")\n",
    "plt.legend()\n",
    "plt.xticks(range(24))\n",
    "plt.grid(True)\n",
    "plt.show()\n",
    "\n",
    "\n",
    "\n",
    "\n",
    "\n"
   ]
  },
  {
   "cell_type": "code",
   "execution_count": 10,
   "id": "2c80c7f4",
   "metadata": {
    "colab": {
     "base_uri": "https://localhost:8080/"
    },
    "id": "2c80c7f4",
    "outputId": "545c37fb-23dd-46ae-8c2b-e1f6c8b4d103",
    "scrolled": true
   },
   "outputs": [
    {
     "name": "stdout",
     "output_type": "stream",
     "text": [
      "Best time to make calls (most calls): 10\n",
      "Best time to make calls (longest calls): 11\n"
     ]
    }
   ],
   "source": [
    "# separation of hour\n",
    "data['hour'] = data['start_time'].dt.hour\n",
    "\n",
    "data['Outcoming_calls'] = (data['call_type'] == 'Outcoming').astype(int)\n",
    "data['Incoming_calls'] = (data['call_type'] == 'Incoming').astype(int)\n",
    "\n",
    "outcoming_calls_per_hour = data[data['Outcoming_calls'] == 1].groupby('hour')['id'].count()\n",
    "\n",
    "# average talk time each hour\n",
    "avg_handle_time_per_hour = data.groupby('hour')['Total_Client_Time'].mean()\n",
    "\n",
    "# the hour with the highest number of calls\n",
    "avg_handle_time_per_hour_outcoming = data[data['Outcoming_calls'] == 1].groupby('hour')['Total_Client_Time'].mean()\n",
    "\n",
    "# the hour with the longest average talk time\n",
    "best_hour_for_longest_outcoming_calls = avg_handle_time_per_hour_outcoming.idxmax()\n",
    "\n",
    "# the hour with the highest number of outcoming calls\n",
    "best_hour_for_outcoming_calls = outcoming_calls_per_hour.idxmax()\n",
    "\n",
    "\n",
    "# results\n",
    "print(\"Best time to make calls (most calls):\", best_hour_for_outcoming_calls)\n",
    "print(\"Best time to make calls (longest calls):\", best_hour_for_longest_outcoming_calls)\n"
   ]
  },
  {
   "cell_type": "code",
   "execution_count": 11,
   "id": "_bjlPHGBMWMT",
   "metadata": {
    "id": "_bjlPHGBMWMT"
   },
   "outputs": [],
   "source": [
    "data = data[data['call_type']=='Outcoming']"
   ]
  },
  {
   "cell_type": "code",
   "execution_count": 12,
   "id": "jYTyybfrMtVU",
   "metadata": {
    "id": "jYTyybfrMtVU"
   },
   "outputs": [],
   "source": [
    "data_8 = data.loc[data['hour']==8, 'Total_Client_Time']\n",
    "data_9 = data.loc[data['hour']==9, 'Total_Client_Time']"
   ]
  },
  {
   "cell_type": "code",
   "execution_count": 13,
   "id": "v7TPWgKtMweq",
   "metadata": {
    "id": "v7TPWgKtMweq"
   },
   "outputs": [],
   "source": [
    "by_hour = []\n",
    "for i in range(8, 18):\n",
    "  data_temp = data.loc[data['hour']==i, 'Total_Client_Time']\n",
    "  by_hour.append(data_temp)"
   ]
  },
  {
   "cell_type": "markdown",
   "id": "b055e861",
   "metadata": {},
   "source": [
    "The ANOVA test was conducted to assess whether there are significant differences in the number of calls among different hours of the day"
   ]
  },
  {
   "cell_type": "code",
   "execution_count": 14,
   "id": "0865af91",
   "metadata": {
    "colab": {
     "base_uri": "https://localhost:8080/"
    },
    "id": "0865af91",
    "outputId": "2b542162-43ca-491f-ceba-26904d579ace"
   },
   "outputs": [
    {
     "name": "stdout",
     "output_type": "stream",
     "text": [
      "Differences in average talk time are significant (p < 0.05)\n",
      "p-value: 3.373965801757094e-15\n"
     ]
    }
   ],
   "source": [
    "# ANOVA test \n",
    "anova_result_time = f_oneway(*by_hour)\n",
    "\n",
    "# Results for the talk time test\n",
    "if anova_result_time.pvalue < 0.05:\n",
    "    print(\"Differences in average talk time are significant (p < 0.05)\")\n",
    "else:\n",
    "    print(\"No significant differences in average talk time (p >= 0.05)\")\n",
    "print(\"p-value:\", anova_result_time.pvalue)\n",
    "\n"
   ]
  },
  {
   "cell_type": "code",
   "execution_count": 28,
   "id": "vQCBe-UcMMyQ",
   "metadata": {
    "colab": {
     "base_uri": "https://localhost:8080/",
     "height": 696
    },
    "id": "vQCBe-UcMMyQ",
    "outputId": "2aa38439-314b-49e5-d610-7e0150e6913d"
   },
   "outputs": [
    {
     "data": {
      "image/png": "[encoded data removed]",
      "text/plain": [
       "<Figure size 1200x800 with 1 Axes>"
      ]
     },
     "metadata": {},
     "output_type": "display_data"
    }
   ],
   "source": [
    "plt.figure(figsize=(12,8))\n",
    "sns.boxplot(data=data, x='hour', y='Total_Client_Time')\n",
    "plt.show()"
   ]
  },
  {
   "cell_type": "code",
   "execution_count": 15,
   "id": "a32e683d",
   "metadata": {
    "id": "a32e683d"
   },
   "outputs": [],
   "source": [
    "hourly_counts = {}\n",
    "for hour in range(9, 18):\n",
    "    data_hourly = data[data['start_time'].dt.hour == hour]\n",
    "    count = len(data_hourly)\n",
    "\n",
    "    hourly_counts[f'hour_{hour}'] = count"
   ]
  },
  {
   "cell_type": "code",
   "execution_count": 16,
   "id": "ddb42f5b",
   "metadata": {
    "colab": {
     "base_uri": "https://localhost:8080/"
    },
    "id": "ddb42f5b",
    "outputId": "e8869340-e430-4a53-827f-466d06c450d3"
   },
   "outputs": [
    {
     "name": "stdout",
     "output_type": "stream",
     "text": [
      " hour_9: 569 calls\n",
      " hour_10: 815 calls\n",
      " hour_11: 543 calls\n",
      " hour_12: 623 calls\n",
      " hour_13: 372 calls\n",
      " hour_14: 596 calls\n",
      " hour_15: 506 calls\n",
      " hour_16: 606 calls\n",
      " hour_17: 96 calls\n"
     ]
    }
   ],
   "source": [
    "for hour, count in hourly_counts.items():\n",
    "    print(f\" {hour}: {count} calls\")"
   ]
  },
  {
   "cell_type": "code",
   "execution_count": 33,
   "id": "3de179b8",
   "metadata": {
    "colab": {
     "base_uri": "https://localhost:8080/"
    },
    "id": "3de179b8",
    "outputId": "5d040844-d861-4a10-b23d-c2d7c91aac9d"
   },
   "outputs": [
    {
     "name": "stdout",
     "output_type": "stream",
     "text": [
      " Multiple Comparison of Means - Tukey HSD, FWER=0.05  \n",
      "======================================================\n",
      "group1 group2 meandiff p-adj   lower    upper   reject\n",
      "------------------------------------------------------\n",
      "     8      9   9.1668 0.8932  -10.196  28.5296  False\n",
      "     8     10  19.1983 0.0261   1.1772  37.2193   True\n",
      "     8     11  37.5237    0.0  17.9565  57.0909   True\n",
      "     8     12  32.2795    0.0  13.2923  51.2667   True\n",
      "     8     13   18.651 0.1567  -2.8646  40.1666  False\n",
      "     8     14  17.3885 0.1139  -1.7789  36.5559  False\n",
      "     8     15  18.3719 0.0993   -1.518  38.2617  False\n",
      "     8     16  -0.9453    1.0 -20.0443  18.1536  False\n",
      "     8     17   -15.43 0.9234   -49.98  19.1201  False\n",
      "     9     10  10.0314  0.676  -6.7674  26.8303  False\n",
      "     9     11  28.3569 0.0001   9.9091  46.8046   True\n",
      "     9     12  23.1127 0.0017   5.2813  40.9441   True\n",
      "     9     13   9.4842 0.9062 -11.0187  29.9871  False\n",
      "     9     14   8.2217 0.9134  -9.8015  26.2448  False\n",
      "     9     15    9.205 0.8714  -9.5847  27.9948  False\n",
      "     9     16 -10.1122 0.7462 -28.0625   7.8382  False\n",
      "     9     17 -24.5968 0.3926 -58.5254   9.3319  False\n",
      "    10     11  18.3254 0.0234   1.2914  35.3595   True\n",
      "    10     12  13.0813 0.2525  -3.2833  29.4458  False\n",
      "    10     13  -0.5473    1.0  -19.788  18.6935  False\n",
      "    10     14  -1.8098    1.0 -18.3831  14.7635  False\n",
      "    10     15  -0.8264    1.0 -18.2302  16.5774  False\n",
      "    10     16 -20.1436 0.0044 -36.6377  -3.6495   True\n",
      "    10     17 -34.6282 0.0326 -67.8094   -1.447   True\n",
      "    11     12  -5.2442 0.9959 -23.2973   12.809  False\n",
      "    11     13 -18.8727 0.1096 -39.5687   1.8233  False\n",
      "    11     14 -20.1352 0.0173 -38.3778  -1.8926   True\n",
      "    11     15 -19.1518 0.0463 -38.1521  -0.1516   True\n",
      "    11     16  -38.469    0.0 -56.6397 -20.2984   True\n",
      "    11     17 -52.9537    0.0 -86.9994  -18.908   True\n",
      "    12     13 -13.6285 0.4984  -33.777     6.52  False\n",
      "    12     14  -14.891 0.1841 -32.5101    2.728  False\n",
      "    12     15 -13.9077 0.3307 -32.3101   4.4948  False\n",
      "    12     16 -33.2249    0.0 -50.7694 -15.6803   True\n",
      "    12     17 -47.7095 0.0003 -81.4252 -13.9938   True\n",
      "    13     14  -1.2625    1.0  -21.581  19.0559  False\n",
      "    13     15  -0.2791    1.0 -21.2805  20.7222  False\n",
      "    13     16 -19.5963 0.0676 -39.8503   0.6576  False\n",
      "    13     17  -34.081 0.0672 -69.2827   1.1207  False\n",
      "    14     15   0.9834    1.0 -17.6049  19.5717  False\n",
      "    14     16 -18.3338 0.0361 -36.0733  -0.5944   True\n",
      "    14     17 -32.8184 0.0659  -66.636   0.9991  False\n",
      "    15     16 -19.3172 0.0327  -37.835  -0.7995   True\n",
      "    15     17 -33.8018 0.0563  -68.034   0.4304  False\n",
      "    16     17 -14.4846 0.9399 -48.2634  19.2942  False\n",
      "------------------------------------------------------\n"
     ]
    }
   ],
   "source": [
    "# tuckey post-hoc test\n",
    "tukey_results_time = pairwise_tukeyhsd(data['Total_Client_Time'], data['hour'])\n",
    "print(tukey_results_time)\n"
   ]
  },
  {
   "cell_type": "markdown",
   "id": "36772fa8",
   "metadata": {
    "id": "5ea24d2e"
   },
   "source": [
    "After conducting the ANOVA test, which indicated significant differences, a Tukey's test was performed to compare the means of different groups. These groupings help identify statistically significant differences in the Total_Client_Time among various hours, providing valuable insights into the variation in call durations between different time periods. \n",
    "\n",
    "The analysis results indicate that the optimal time for making calls is at 11 AM because during this time, the calls tend to have the longest durations. The second-best time is at 12 PM, as there are no statistically significant differences between 12 PM and the hours 11 AM, 10 AM, 1 PM, 2 PM, and 3 PM. On the other hand, the least favorable hours for making calls are 8 AM, 4 PM, and 5 PM."
   ]
  }
 ],
 "metadata": {
  "colab": {
   "provenance": []
  },
  "kernelspec": {
   "display_name": "Python 3 (ipykernel)",
   "language": "python",
   "name": "python3"
  },
  "language_info": {
   "codemirror_mode": {
    "name": "ipython",
    "version": 3
   },
   "file_extension": ".py",
   "mimetype": "text/x-python",
   "name": "python",
   "nbconvert_exporter": "python",
   "pygments_lexer": "ipython3",
   "version": "3.11.3"
  }
 },
 "nbformat": 4,
 "nbformat_minor": 5
}
